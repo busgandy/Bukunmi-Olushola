{
  "nbformat": 4,
  "nbformat_minor": 0,
  "metadata": {
    "colab": {
      "name": "conda-on-google-colab.ipynb",
      "provenance": [],
      "collapsed_sections": [],
      "include_colab_link": true
    },
    "kernelspec": {
      "name": "python3",
      "display_name": "Python 3"
    }
  },
  "cells": [
    {
      "cell_type": "markdown",
      "metadata": {
        "id": "view-in-github",
        "colab_type": "text"
      },
      "source": [
        "<a href=\"https://colab.research.google.com/github/busgandy/Bukunmi-Olushola/blob/main/python/google_colab_install_conda.ipynb\" target=\"_parent\"><img src=\"https://colab.research.google.com/assets/colab-badge.svg\" alt=\"Open In Colab\"/></a>"
      ]
    },
    {
      "cell_type": "code",
      "metadata": {
        "id": "uyfFc8VufUyl",
        "colab": {
          "base_uri": "https://localhost:8080/",
          "height": 1000
        },
        "outputId": "36b12856-fc68-40b8-c203-0fcf8ab7244e"
      },
      "source": [
        "################################################################################\n",
        "# INSTALL CONDA ON GOOGLE COLAB\n",
        "################################################################################\n",
        "! wget https://repo.anaconda.com/miniconda/Miniconda3-py37_4.8.2-Linux-x86_64.sh\n",
        "! chmod +x Miniconda3-py37_4.8.2-Linux-x86_64.sh\n",
        "! bash ./Miniconda3-py37_4.8.2-Linux-x86_64.sh -b -f -p /usr/local\n",
        "import sys\n",
        "sys.path.append('/usr/local/lib/python3.7/site-packages/')"
      ],
      "execution_count": null,
      "outputs": [
        {
          "output_type": "stream",
          "text": [
            "--2020-04-06 03:23:37--  https://repo.anaconda.com/miniconda/Miniconda3-py37_4.8.2-Linux-x86_64.sh\n",
            "Resolving repo.anaconda.com (repo.anaconda.com)... 104.16.130.3, 104.16.131.3, 2606:4700::6810:8303, ...\n",
            "Connecting to repo.anaconda.com (repo.anaconda.com)|104.16.130.3|:443... connected.\n",
            "HTTP request sent, awaiting response... 200 OK\n",
            "Length: 85055499 (81M) [application/x-sh]\n",
            "Saving to: ‘Miniconda3-py37_4.8.2-Linux-x86_64.sh.2’\n",
            "\n",
            "\r          Miniconda   0%[                    ]       0  --.-KB/s               \r         Miniconda3  48%[========>           ]  39.24M   196MB/s               \r        Miniconda3-  93%[=================>  ]  76.01M   189MB/s               \rMiniconda3-py37_4.8 100%[===================>]  81.12M   187MB/s    in 0.4s    \n",
            "\n",
            "2020-04-06 03:23:37 (187 MB/s) - ‘Miniconda3-py37_4.8.2-Linux-x86_64.sh.2’ saved [85055499/85055499]\n",
            "\n",
            "PREFIX=/usr/local\n",
            "Unpacking payload ...\n",
            "Collecting package metadata (current_repodata.json): - \b\b\\ \b\bdone\n",
            "Solving environment: / \b\b- \b\b\\ \n",
            "The environment is inconsistent, please check the package plan carefully\n",
            "The following packages are causing the inconsistency:\n",
            "\n",
            "  - defaults/linux-64::urllib3==1.25.8=py37_0\n",
            "  - defaults/linux-64::ruamel_yaml==0.15.87=py37h7b6447c_0\n",
            "  - defaults/linux-64::pyopenssl==19.1.0=py37_0\n",
            "  - defaults/linux-64::pysocks==1.7.1=py37_0\n",
            "  - defaults/linux-64::six==1.14.0=py37_0\n",
            "  - defaults/linux-64::setuptools==45.2.0=py37_0\n",
            "  - defaults/linux-64::idna==2.8=py37_0\n",
            "  - defaults/noarch::tqdm==4.42.1=py_0\n",
            "  - defaults/linux-64::asn1crypto==1.3.0=py37_0\n",
            "  - defaults/linux-64::cffi==1.14.0=py37h2e261b9_0\n",
            "  - defaults/linux-64::wheel==0.34.2=py37_0\n",
            "  - defaults/linux-64::conda-package-handling==1.6.0=py37h7b6447c_0\n",
            "  - defaults/linux-64::pip==20.0.2=py37_1\n",
            "  - defaults/linux-64::cryptography==2.8=py37h1ba5d50_0\n",
            "  - defaults/linux-64::python==3.7.6=h0371630_2\n",
            "  - defaults/linux-64::pycparser==2.19=py37_0\n",
            "  - defaults/linux-64::pycosat==0.6.3=py37h7b6447c_0\n",
            "  - defaults/linux-64::requests==2.22.0=py37_1\n",
            "  - defaults/linux-64::chardet==3.0.4=py37_1003\n",
            "\b\b| \b\b/ \b\bdone\n",
            "\n",
            "## Package Plan ##\n",
            "\n",
            "  environment location: /usr/local\n",
            "\n",
            "  added / updated specs:\n",
            "    - _libgcc_mutex==0.1=main\n",
            "    - asn1crypto==1.3.0=py37_0\n",
            "    - ca-certificates==2020.1.1=0\n",
            "    - certifi==2019.11.28=py37_0\n",
            "    - cffi==1.14.0=py37h2e261b9_0\n",
            "    - chardet==3.0.4=py37_1003\n",
            "    - conda-package-handling==1.6.0=py37h7b6447c_0\n",
            "    - conda==4.8.2=py37_0\n",
            "    - cryptography==2.8=py37h1ba5d50_0\n",
            "    - idna==2.8=py37_0\n",
            "    - ld_impl_linux-64==2.33.1=h53a641e_7\n",
            "    - libedit==3.1.20181209=hc058e9b_0\n",
            "    - libffi==3.2.1=hd88cf55_4\n",
            "    - libgcc-ng==9.1.0=hdf63c60_0\n",
            "    - libstdcxx-ng==9.1.0=hdf63c60_0\n",
            "    - ncurses==6.2=he6710b0_0\n",
            "    - openssl==1.1.1d=h7b6447c_4\n",
            "    - pip==20.0.2=py37_1\n",
            "    - pycosat==0.6.3=py37h7b6447c_0\n",
            "    - pycparser==2.19=py37_0\n",
            "    - pyopenssl==19.1.0=py37_0\n",
            "    - pysocks==1.7.1=py37_0\n",
            "    - python==3.7.6=h0371630_2\n",
            "    - readline==7.0=h7b6447c_5\n",
            "    - requests==2.22.0=py37_1\n",
            "    - ruamel_yaml==0.15.87=py37h7b6447c_0\n",
            "    - setuptools==45.2.0=py37_0\n",
            "    - six==1.14.0=py37_0\n",
            "    - sqlite==3.31.1=h7b6447c_0\n",
            "    - tk==8.6.8=hbc83047_0\n",
            "    - tqdm==4.42.1=py_0\n",
            "    - urllib3==1.25.8=py37_0\n",
            "    - wheel==0.34.2=py37_0\n",
            "    - xz==5.2.4=h14c3975_4\n",
            "    - yaml==0.1.7=had09818_2\n",
            "    - zlib==1.2.11=h7b6447c_3\n",
            "\n",
            "\n",
            "The following NEW packages will be INSTALLED:\n",
            "\n",
            "  certifi            pkgs/main/linux-64::certifi-2019.11.28-py37_0\n",
            "  conda              pkgs/main/linux-64::conda-4.8.2-py37_0\n",
            "  openssl            pkgs/main/linux-64::openssl-1.1.1d-h7b6447c_4\n",
            "\n",
            "\n",
            "Preparing transaction: \\ \b\bdone\n",
            "Executing transaction: / \b\b- \b\bdone\n",
            "installation finished.\n",
            "WARNING:\n",
            "    You currently have a PYTHONPATH environment variable set. This may cause\n",
            "    unexpected behavior when running the Python interpreter in Miniconda3.\n",
            "    For best results, please verify that your PYTHONPATH only points to\n",
            "    directories of packages that are compatible with the Python interpreter\n",
            "    in Miniconda3: /usr/local\n"
          ],
          "name": "stdout"
        }
      ]
    },
    {
      "cell_type": "code",
      "metadata": {
        "id": "jswJ_Et1excx"
      },
      "source": [
        "! conda install -c conda-forge ta-lib"
      ],
      "execution_count": null,
      "outputs": []
    },
    {
      "cell_type": "code",
      "metadata": {
        "id": "jN8bEpeSexk2"
      },
      "source": [
        "pip install websocket_client"
      ],
      "execution_count": null,
      "outputs": []
    },
    {
      "cell_type": "code",
      "metadata": {
        "id": "BAY9LD5hexoY"
      },
      "source": [
        "pip install python-binance"
      ],
      "execution_count": null,
      "outputs": []
    },
    {
      "cell_type": "code",
      "metadata": {
        "id": "Hf79Mtidex3F"
      },
      "source": [
        "import websocket, json, pprint, talib, numpy\n",
        "import config\n",
        "from binance.client import Client\n",
        "from binance.enums import *\n",
        "\n",
        "SOCKET = \"wss://stream.binance.com:9443/ws/manausdt@kline_1m\"\n",
        "\n",
        "RSI_PERIOD = 14\n",
        "RSI_OVERBOUGHT = 70\n",
        "RSI_OVERSOLD = 30\n",
        "TRADE_SYMBOL = 'MANAUSDT'\n",
        "TRADE_QUANTITY = 500\n",
        "\n",
        "\n",
        "\n",
        "closes = []\n",
        "in_position = False\n",
        "\n",
        "client = Client(config.API_KEY, config.API_SECRET)\n",
        "\n",
        "def order(side, quantity, symbol,order_type=ORDER_TYPE_MARKET):\n",
        "    try:\n",
        "        print(\"sending order\")\n",
        "        order = client.create_order(symbol=symbol, side=side, type=order_type, quantity=quantity)\n",
        "        print(order)\n",
        "    except Exception as e:\n",
        "        print(\"an exception ocurred - {}\".format(e))\n",
        "        return False\n",
        "\n",
        "    return True\n",
        "\n",
        "    \n",
        "def on_open(ws):\n",
        "    print('opened connection')\n",
        "\n",
        "def on_close(ws):\n",
        "    print('closed connection')\n",
        "\n",
        "def on_message(ws, message):\n",
        "    global closes, in_position\n",
        "    \n",
        "    print('received message')\n",
        "    json_message = json.loads(message)\n",
        "    pprint.pprint(json_message)\n",
        "\n",
        "    candle = json_message['k']\n",
        "\n",
        "    is_candle_closed = candle['x']\n",
        "    close = candle['c']\n",
        "\n",
        "    if is_candle_closed:\n",
        "        print(\"candle closed at {}\".format(close))\n",
        "        closes.append(float(close))\n",
        "        print(\"closes\")\n",
        "        print(closes)\n",
        "\n",
        "        if len(closes) > RSI_PERIOD:\n",
        "            np_closes = numpy.array(closes)\n",
        "            rsi = talib.RSI(np_closes, RSI_PERIOD)\n",
        "            print(\"all rsis calculated so far\")\n",
        "            print(rsi)\n",
        "            last_rsi = rsi[-1]\n",
        "            print(\"the current rsi is {}\".format(last_rsi))\n",
        "\n",
        "            if last_rsi > RSI_OVERBOUGHT:\n",
        "                if in_position:\n",
        "                    print(\"Overbought! Sell! Sell! Sell!\")\n",
        "                    # put binance sell logic here\n",
        "                    order_succeeded = order(SIDE_SELL, TRADE_QUANTITY, TRADE_SYMBOL)\n",
        "                    if order_succeeded:\n",
        "                        in_position = False\n",
        "                else:\n",
        "                    print(\"It is overbought, but we don't own any. Nothing to do.\")\n",
        "            \n",
        "            if last_rsi < RSI_OVERSOLD:\n",
        "                if in_position:\n",
        "                    print(\"It is oversold, but you already own it, nothing to do.\")\n",
        "                else:\n",
        "                    print(\"Oversold! Buy! Buy! Buy!\")\n",
        "                    # put binance buy order logic here\n",
        "                    order_succeeded = order(SIDE_BUY, TRADE_QUANTITY, TRADE_SYMBOL)\n",
        "                    if order_succeeded:\n",
        "                        in_position = True\n",
        "\n",
        "                \n",
        "ws = websocket.WebSocketApp(SOCKET, on_open=on_open, on_close=on_close, on_message=on_message)\n",
        "ws.run_forever()"
      ],
      "execution_count": null,
      "outputs": []
    },
    {
      "cell_type": "code",
      "metadata": {
        "id": "jQLN2iW-ex6n"
      },
      "source": [
        ""
      ],
      "execution_count": null,
      "outputs": []
    }
  ]
}